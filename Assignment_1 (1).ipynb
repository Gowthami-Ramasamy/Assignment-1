{
  "nbformat": 4,
  "nbformat_minor": 0,
  "metadata": {
    "colab": {
      "provenance": []
    },
    "kernelspec": {
      "name": "python3",
      "display_name": "Python 3"
    },
    "language_info": {
      "name": "python"
    }
  },
  "cells": [
    {
      "cell_type": "markdown",
      "source": [
        "1. Write a Python function to calculate the factorial of a number"
      ],
      "metadata": {
        "id": "d8jYAWoUE6Qr"
      }
    },
    {
      "cell_type": "code",
      "source": [
        "def find_factorial():\n",
        "  num = int(input(\"enter the number: \"))\n",
        "  f = 1\n",
        "  for i in range(1, num+1):\n",
        "    f = f * i\n",
        "  print(\"The factorial of given number is \", f)\n",
        "find_factorial()"
      ],
      "metadata": {
        "colab": {
          "base_uri": "https://localhost:8080/"
        },
        "id": "cGF4Mm7iE7mk",
        "outputId": "1e7c3c5e-6432-4b3e-b09a-2c3a638124c7"
      },
      "execution_count": null,
      "outputs": [
        {
          "output_type": "stream",
          "name": "stdout",
          "text": [
            "enter the number: 5\n",
            "The factorial of given number is  120\n"
          ]
        }
      ]
    },
    {
      "cell_type": "markdown",
      "source": [
        "2. Create a function in Python that checks whether a passed string is a palindrome or not."
      ],
      "metadata": {
        "id": "Gd4woaFINipv"
      }
    },
    {
      "cell_type": "code",
      "source": [
        "def Palindrome_string():\n",
        "  String_Palindrome = str(input(\"Enter the string: \"))\n",
        "  temp = \"\"\n",
        "  for i in String_Palindrome:\n",
        "    temp = i + temp\n",
        "\n",
        "  if (String_Palindrome == temp):\n",
        "    print(\"Yes\")\n",
        "  else:\n",
        "    print(\"No\")\n",
        "Palindrome_string()"
      ],
      "metadata": {
        "colab": {
          "base_uri": "https://localhost:8080/"
        },
        "id": "LXL0nTQ4MoPT",
        "outputId": "4a61eb6a-0107-4638-92b2-c2d26bd0eed7"
      },
      "execution_count": null,
      "outputs": [
        {
          "output_type": "stream",
          "name": "stdout",
          "text": [
            "Enter the string: gowthami\n",
            "No\n"
          ]
        }
      ]
    },
    {
      "cell_type": "markdown",
      "source": [
        "3. Write a Python function to multiply all the numbers in a list.\n"
      ],
      "metadata": {
        "id": "oXkFcoXCO4ID"
      }
    },
    {
      "cell_type": "code",
      "source": [
        "list_number = [1,2,3,4,5,6,7]\n",
        "t = 1\n",
        "for i in list_number:\n",
        "  t = t * i\n",
        "print(\"Multiplication of numbers in the list is: \",  t)\n"
      ],
      "metadata": {
        "colab": {
          "base_uri": "https://localhost:8080/"
        },
        "id": "8yA-eBU_MoTC",
        "outputId": "5ec31609-24e2-4a4c-95d4-6109c8030f7b"
      },
      "execution_count": null,
      "outputs": [
        {
          "output_type": "stream",
          "name": "stdout",
          "text": [
            "Multiplication of numbers in the list is:  5040\n"
          ]
        }
      ]
    },
    {
      "cell_type": "markdown",
      "source": [
        "4. Write a Python program to reverse a string."
      ],
      "metadata": {
        "id": "TWVXjKAvffUJ"
      }
    },
    {
      "cell_type": "code",
      "source": [
        "a = str(input(\"Enter the String: \"))\n",
        "r = \"\"\n",
        "for i in a:\n",
        "  r = i + r\n",
        "print(r)"
      ],
      "metadata": {
        "colab": {
          "base_uri": "https://localhost:8080/"
        },
        "id": "or9mvl3mMoYH",
        "outputId": "c258df58-9fae-4028-9669-1d9388f369fc"
      },
      "execution_count": null,
      "outputs": [
        {
          "output_type": "stream",
          "name": "stdout",
          "text": [
            "Enter the String: Gowthami\n",
            "imahtwoG\n"
          ]
        }
      ]
    },
    {
      "cell_type": "markdown",
      "source": [
        "5. Create a Python function to calculate the sum of natural numbers up to a given number"
      ],
      "metadata": {
        "id": "uhao0O9Vggxl"
      }
    },
    {
      "cell_type": "code",
      "source": [
        "b = int(input(\"Enter the natural number: \"))\n",
        "c = 1\n",
        "for i in range(1, b+1):\n",
        "  c = i + c\n",
        "print(c)\n"
      ],
      "metadata": {
        "colab": {
          "base_uri": "https://localhost:8080/"
        },
        "id": "HTfqZeOOgIp9",
        "outputId": "ec46ce58-210a-463b-cfb2-8579eefd1cfb"
      },
      "execution_count": null,
      "outputs": [
        {
          "output_type": "stream",
          "name": "stdout",
          "text": [
            "Enter the natural number: 3\n",
            "7\n"
          ]
        }
      ]
    },
    {
      "cell_type": "markdown",
      "source": [
        "6. Write a Python function to find the maximum of three numbers"
      ],
      "metadata": {
        "id": "VMv1jw0qhjA9"
      }
    },
    {
      "cell_type": "code",
      "source": [
        "x = [1,2,3,4,5,6,7]\n",
        "print(max(x))"
      ],
      "metadata": {
        "colab": {
          "base_uri": "https://localhost:8080/"
        },
        "id": "GV5mt5MPgI2y",
        "outputId": "9fed0eda-d9aa-4309-83fc-5b27aedb0e28"
      },
      "execution_count": null,
      "outputs": [
        {
          "output_type": "stream",
          "name": "stdout",
          "text": [
            "7\n"
          ]
        }
      ]
    },
    {
      "cell_type": "markdown",
      "source": [
        "7. Create a function in Python to check if a given number is a prime number"
      ],
      "metadata": {
        "id": "KHFic1uKh5C9"
      }
    },
    {
      "cell_type": "code",
      "source": [
        "def is_prime(n):\n",
        "  if n<=1:\n",
        "    return False\n",
        "  for i in range(2, int(n**0.5) + 1):\n",
        "    if n % i ==0:\n",
        "      return False\n",
        "    return True\n",
        "is_prime(int(input(\"enter the number: \")))\n",
        "\n",
        "\n"
      ],
      "metadata": {
        "id": "WBRqnsXOgJBe",
        "colab": {
          "base_uri": "https://localhost:8080/"
        },
        "outputId": "0e65a9ad-86cd-49f0-e4c0-4b5b16d7a805"
      },
      "execution_count": 9,
      "outputs": [
        {
          "name": "stdout",
          "output_type": "stream",
          "text": [
            "enter the number: 25\n"
          ]
        },
        {
          "output_type": "execute_result",
          "data": {
            "text/plain": [
              "True"
            ]
          },
          "metadata": {},
          "execution_count": 9
        }
      ]
    },
    {
      "cell_type": "markdown",
      "source": [
        "8. Write a Python function to find the sum of all elements in a list."
      ],
      "metadata": {
        "id": "XMe0B_DMhaKy"
      }
    },
    {
      "cell_type": "code",
      "source": [
        "l = [1,2,3,4,5,6,7,8]\n",
        "m = 0\n",
        "for i in l:\n",
        "    m = m + i\n",
        "print(\"The sum of the number in the list is: \", m)\n"
      ],
      "metadata": {
        "colab": {
          "base_uri": "https://localhost:8080/"
        },
        "id": "krrCFNQ4hY2j",
        "outputId": "dfc33025-9b12-4ddb-eb4c-7d372e682343"
      },
      "execution_count": 9,
      "outputs": [
        {
          "output_type": "stream",
          "name": "stdout",
          "text": [
            "The sum of the number in the list is:  36\n"
          ]
        }
      ]
    },
    {
      "cell_type": "markdown",
      "source": [
        "9.Write a Python function to calculate the LCM (Least Common Multiple) of two numbers"
      ],
      "metadata": {
        "id": "xIS5j56hj_VX"
      }
    },
    {
      "cell_type": "code",
      "source": [
        "def lcm():\n",
        "  a = int(input(\"Enter the first number to calculate the LCM: \"))\n",
        "  b = int(input(\"Enter the second number to calculate the LCM: \"))\n",
        "  for i in range(max(a, b), 1 + (a * b), max(a, b)):\n",
        "    if i % a == i % b == 0:\n",
        "        lcm = i\n",
        "        break\n",
        "  print(\"LCM of\", a, \"and\", b, \"is\", lcm)\n",
        "\n",
        "lcm()"
      ],
      "metadata": {
        "colab": {
          "base_uri": "https://localhost:8080/"
        },
        "id": "fXUhn7LohY6d",
        "outputId": "951454fa-16e4-4ed4-ec60-dfce0706a6c7"
      },
      "execution_count": 12,
      "outputs": [
        {
          "output_type": "stream",
          "name": "stdout",
          "text": [
            "Enter the first number to calculate the LCM: 3\n",
            "Enter the second number to calculate the LCM: 5\n",
            "LCM of 3 and 5 is 15\n"
          ]
        }
      ]
    },
    {
      "cell_type": "markdown",
      "source": [
        "10.Write a Python function to calculate the sum of digits in a given number."
      ],
      "metadata": {
        "id": "WDEk_T9UrRG2"
      }
    },
    {
      "cell_type": "code",
      "source": [
        "def number_of_digit():\n",
        "  number = int(input(\"Enter the number: \"))\n",
        "  Str_number = str(number)\n",
        "  c = len(Str_number)\n",
        "  print(\"the sum of the digit of the given number is: \", c)\n",
        "number_of_digit()\n"
      ],
      "metadata": {
        "colab": {
          "base_uri": "https://localhost:8080/"
        },
        "id": "hyM2LqCJhY-X",
        "outputId": "469f8565-30e0-4844-d582-5f3f7d8a2168"
      },
      "execution_count": 22,
      "outputs": [
        {
          "output_type": "stream",
          "name": "stdout",
          "text": [
            "Enter the number: 124567\n",
            "the sum of the digit of the given number is:  6\n"
          ]
        }
      ]
    },
    {
      "cell_type": "markdown",
      "source": [
        "11.Create a function in Python to check if a given number is an Armstrong number."
      ],
      "metadata": {
        "id": "6-QRJiYfKL9n"
      }
    },
    {
      "cell_type": "code",
      "source": [
        "d = input(\"enter the number: \")\n",
        "e = int(d)\n",
        "l = len(d)\n",
        "for i in d:\n",
        "  print(i)\n",
        "sum_power= sum(int(i)**l for i in d)\n",
        "print(sum_power)\n",
        "if e == sum_power:\n",
        "  print(\"given number is Armstrong number\")\n",
        "else:\n",
        "  print(\"the given number is not armstrong number\")"
      ],
      "metadata": {
        "colab": {
          "base_uri": "https://localhost:8080/"
        },
        "id": "a0hyj_DywWlN",
        "outputId": "2ac6f25a-bb1d-44db-9365-012cc09469ea"
      },
      "execution_count": 3,
      "outputs": [
        {
          "output_type": "stream",
          "name": "stdout",
          "text": [
            "enter the number: 153\n",
            "1\n",
            "5\n",
            "3\n",
            "153\n",
            "given number is Armstrong number\n"
          ]
        }
      ]
    },
    {
      "cell_type": "markdown",
      "source": [
        "12.Write a Python function to calculate the sum of the first n natural numbers"
      ],
      "metadata": {
        "id": "01ZngmHapoIA"
      }
    },
    {
      "cell_type": "code",
      "source": [
        "number = int(input(\"Enter the number: \"))\n",
        "t = 0\n",
        "for i in range(1, number+1):\n",
        "  t = t+i\n",
        "print(\"The sum of given natural number is: \", t)\n",
        "\n"
      ],
      "metadata": {
        "colab": {
          "base_uri": "https://localhost:8080/"
        },
        "id": "ttzrQ82JwWoX",
        "outputId": "19e9598d-3f01-459a-aa36-c60ac115dbb7"
      },
      "execution_count": 6,
      "outputs": [
        {
          "output_type": "stream",
          "name": "stdout",
          "text": [
            "Enter the number: 6\n",
            "The sum of given natural number is:  21\n"
          ]
        }
      ]
    },
    {
      "cell_type": "markdown",
      "source": [
        "13.Create a function in Python to check if a given number is a strong number"
      ],
      "metadata": {
        "id": "1SXQQIurqr5N"
      }
    },
    {
      "cell_type": "code",
      "source": [
        "def factorial_number(n):\n",
        "  t = 1\n",
        "  for j in range(1, n+1):\n",
        "    t = t*j\n",
        "  return t\n",
        "\n",
        "d = int(input(\"Enter the number: \"))\n",
        "e = str(d)\n",
        "for i in e:\n",
        "  print(i)\n",
        "\n",
        "sumoffactorial = sum(factorial_number(int(i)) for i in e)\n",
        "print(\"sum of factorial: \", sumoffactorial )\n",
        "\n",
        "if sumoffactorial == d:\n",
        "  print(\"the number is strong number\")\n",
        "else:\n",
        "  print(\"the number is not strong number\")"
      ],
      "metadata": {
        "colab": {
          "base_uri": "https://localhost:8080/"
        },
        "id": "Pv5K90Supqe5",
        "outputId": "72f723ca-da65-4c8f-b373-fa0ec389df47"
      },
      "execution_count": 50,
      "outputs": [
        {
          "output_type": "stream",
          "name": "stdout",
          "text": [
            "Enter the number: 145\n",
            "1\n",
            "4\n",
            "5\n",
            "sum of factorial:  145\n",
            "the number is strong number\n"
          ]
        }
      ]
    },
    {
      "cell_type": "markdown",
      "source": [
        "14.Write a Python function to calculate the power of a number raised to another."
      ],
      "metadata": {
        "id": "ktXPJP0N4m2d"
      }
    },
    {
      "cell_type": "code",
      "source": [
        "base = int(input(\"enter the base number: \"))\n",
        "power = int(input(\"enter the power number: \"))\n",
        "\n",
        "Result = base**power\n",
        "\n",
        "print(Result)"
      ],
      "metadata": {
        "colab": {
          "base_uri": "https://localhost:8080/"
        },
        "id": "RAfRernBpqiA",
        "outputId": "017cc5c7-8ba4-44d4-8d57-a09706cb3a79"
      },
      "execution_count": 53,
      "outputs": [
        {
          "output_type": "stream",
          "name": "stdout",
          "text": [
            "enter the base number: 34\n",
            "enter the power number: 5\n",
            "45435424\n"
          ]
        }
      ]
    },
    {
      "cell_type": "markdown",
      "source": [
        "15. Create a function in Python to check if a given number is an even number.\n"
      ],
      "metadata": {
        "id": "edDpW1NG5wY4"
      }
    },
    {
      "cell_type": "code",
      "source": [
        "num = int(input(\"enter the number: \"))\n",
        "if num % 2 == 0:\n",
        "  print(\"the number is even\")\n",
        "else:\n",
        "  print(\"the number is not even\")\n"
      ],
      "metadata": {
        "colab": {
          "base_uri": "https://localhost:8080/"
        },
        "id": "Y-fH0FXzpqly",
        "outputId": "90e72d17-283a-48eb-c6a6-a5b76a0f3caf"
      },
      "execution_count": 57,
      "outputs": [
        {
          "output_type": "stream",
          "name": "stdout",
          "text": [
            "enter the number: 33\n",
            "the number is not even\n"
          ]
        }
      ]
    },
    {
      "cell_type": "markdown",
      "source": [
        "16.Write a Python function to find the square root of a given number."
      ],
      "metadata": {
        "id": "zKathoyu6Q-6"
      }
    },
    {
      "cell_type": "code",
      "source": [
        "num = int(input(\"enter the number: \"))\n",
        "square_root = num ** 0.5\n",
        "print(\"the sqaure root of number is: \", square_root)\n"
      ],
      "metadata": {
        "colab": {
          "base_uri": "https://localhost:8080/"
        },
        "id": "e5MT05nApqo_",
        "outputId": "2b9c42ef-d6fd-4640-e1c6-b5ba2e92ab06"
      },
      "execution_count": 59,
      "outputs": [
        {
          "output_type": "stream",
          "name": "stdout",
          "text": [
            "enter the number: 16\n",
            "the sqaure root of number is:  4.0\n"
          ]
        }
      ]
    },
    {
      "cell_type": "markdown",
      "source": [
        "17.Create a function in Python to check if a given year is a leap year.\n"
      ],
      "metadata": {
        "id": "u_QMaxb87E5Q"
      }
    },
    {
      "cell_type": "code",
      "source": [
        "year = int(input(\"enter the year: \"))\n",
        "if (year % 4 == 0 and year % 100 != 0) or (year % 400 == 0):\n",
        "  print(\"The given year is leap year\")\n",
        "else:\n",
        "  print(\"The given is year is not leap year\")"
      ],
      "metadata": {
        "colab": {
          "base_uri": "https://localhost:8080/"
        },
        "id": "eVCMTZlM7GpV",
        "outputId": "7cd1b28f-135b-41bf-e724-72a69aa023f1"
      },
      "execution_count": 62,
      "outputs": [
        {
          "output_type": "stream",
          "name": "stdout",
          "text": [
            "enter the year: 2012\n",
            "The given year is leap year\n"
          ]
        }
      ]
    },
    {
      "cell_type": "markdown",
      "source": [
        "18.Create a function in Python to check if a given number is a perfect number.\n",
        "\n"
      ],
      "metadata": {
        "id": "l7_6HzAn8C4y"
      }
    },
    {
      "cell_type": "code",
      "source": [
        "def is_perfect_number(n):\n",
        "  if n <= 1:\n",
        "        return False\n",
        "  divisors_sum = sum(i for i in range(1, n) if n % i == 0)\n",
        "  return divisors_sum == n\n",
        "is_perfect_number(int(input(\"Enter the number: \")))\n"
      ],
      "metadata": {
        "colab": {
          "base_uri": "https://localhost:8080/"
        },
        "id": "zAJij5qH7GtK",
        "outputId": "6201626a-275c-4dae-b68f-88fd06f373be"
      },
      "execution_count": 16,
      "outputs": [
        {
          "name": "stdout",
          "output_type": "stream",
          "text": [
            "Enter the number: 28\n"
          ]
        },
        {
          "output_type": "execute_result",
          "data": {
            "text/plain": [
              "True"
            ]
          },
          "metadata": {},
          "execution_count": 16
        }
      ]
    },
    {
      "cell_type": "markdown",
      "source": [
        "19.Write a Python function to find the greatest common divisor (GCD) of two numbers."
      ],
      "metadata": {
        "id": "4eFn1ty38tay"
      }
    },
    {
      "cell_type": "code",
      "source": [
        "def lcm(a, b):\n",
        "  for i in range(max(a, b), 1 + (a * b), max(a, b)):\n",
        "    if i % a == i % b == 0:\n",
        "        return i\n",
        "  print(\"LCM of\", a, \"and\", b, \"is\", i)\n",
        "\n",
        "c = int(input(\"Enter the first number\"))\n",
        "d = int(input(\"Enter the second number\"))\n",
        "gcd =(c*d)/lcm(c,d)\n",
        "print(\"The GCD pf two number is: \", gcd)"
      ],
      "metadata": {
        "colab": {
          "base_uri": "https://localhost:8080/"
        },
        "id": "5Hik1JGt7GxL",
        "outputId": "c6842546-9cc9-45f6-c9a3-15da72078dff"
      },
      "execution_count": 65,
      "outputs": [
        {
          "output_type": "stream",
          "name": "stdout",
          "text": [
            "Enter the first number4\n",
            "Enter the second number5\n",
            "The GCD pf two number is:  1.0\n"
          ]
        }
      ]
    },
    {
      "cell_type": "code",
      "source": [],
      "metadata": {
        "id": "HTo7sJDj7G1f"
      },
      "execution_count": null,
      "outputs": []
    },
    {
      "cell_type": "code",
      "source": [],
      "metadata": {
        "id": "Eb7zDhzECqo4"
      },
      "execution_count": null,
      "outputs": []
    },
    {
      "cell_type": "code",
      "source": [],
      "metadata": {
        "id": "YSG5V-oKCqsB"
      },
      "execution_count": null,
      "outputs": []
    },
    {
      "cell_type": "code",
      "source": [],
      "metadata": {
        "id": "HyhepaeCCqvr"
      },
      "execution_count": null,
      "outputs": []
    }
  ]
}